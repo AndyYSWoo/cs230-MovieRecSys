{
 "cells": [
  {
   "cell_type": "code",
   "execution_count": 54,
   "metadata": {
    "collapsed": true
   },
   "outputs": [],
   "source": [
    "import csv\n",
    "import collections\n",
    "import numpy as np\n",
    "import pickle"
   ]
  },
  {
   "cell_type": "code",
   "execution_count": 55,
   "metadata": {
    "collapsed": true
   },
   "outputs": [],
   "source": [
    "def countUsers(filename):\n",
    "    with open(filename) as csvDataFile:\n",
    "        count = -1\n",
    "        userNum = 0\n",
    "        csvReader = csv.reader(csvDataFile)\n",
    "        for row in csvReader:\n",
    "            if count == -1:\n",
    "                count = count+1\n",
    "                continue;\n",
    "            \n",
    "            userNum = row[0]\n",
    "    return userNum"
   ]
  },
  {
   "cell_type": "code",
   "execution_count": 58,
   "metadata": {
    "collapsed": false
   },
   "outputs": [],
   "source": [
    "movieNum = 45843 # total number of movies in the dataset\n",
    "userNum = 20133 # num of users who make more than 300 ratings\n",
    "\n",
    "matrix = np.zeros((userNum, movieNum)) \n",
    "\n",
    "colToMovieid = np.zeros(movieNum)\n",
    "movieidToCol = collections.defaultdict(int)\n",
    "\n",
    "movieOverview = collections.defaultdict(str)\n",
    "movieGenre = collections.defaultdict(str)\n",
    "movieKeyword = collections.defaultdict(str)\n",
    "\n",
    "tmbdidToMovieid = collections.defaultdict(int)\n",
    "movieidToTmbdid = collections.defaultdict(int)"
   ]
  },
  {
   "cell_type": "code",
   "execution_count": 59,
   "metadata": {
    "collapsed": true
   },
   "outputs": [],
   "source": [
    "def readLink(filename):\n",
    "    \n",
    "        with open(filename) as csvDataFile:\n",
    "            csvReader = csv.reader(csvDataFile)\n",
    "            count = -1\n",
    "            for row in csvReader:\n",
    "                if count == -1:\n",
    "                    count = count+1\n",
    "                    continue;\n",
    "            \n",
    "                movieid = row[0]\n",
    "                tmbdid = row[1]\n",
    "            \n",
    "                colToMovieid[count] = movieid;\n",
    "                movieidToCol[movieid] = count\n",
    "                \n",
    "                tmbdidToMovieid[tmbdid] = movieid\n",
    "                movieidToTmbdid[movieid] = tmbdid\n",
    "                \n",
    "                count = count+1"
   ]
  },
  {
   "cell_type": "code",
   "execution_count": 60,
   "metadata": {
    "collapsed": false
   },
   "outputs": [],
   "source": [
    "def readMoviemetadata(filename):\n",
    " \n",
    "    with open(filename) as csvDataFile:\n",
    "        csvReader = csv.reader(csvDataFile)\n",
    "        count = -1;\n",
    "        for row in csvReader:\n",
    "            genre = row[3]\n",
    "            tmbdid = row[5]\n",
    "            overview = row[9]\n",
    "            movieid = tmbdidToMovieid[tmbdid]\n",
    "            movieOverview[movieid] = overview\n",
    "            movieGenre[movieid] = genre\n",
    "        \n",
    "            count = count+1"
   ]
  },
  {
   "cell_type": "code",
   "execution_count": 66,
   "metadata": {
    "collapsed": true
   },
   "outputs": [],
   "source": [
    "def readKeyword(filename):\n",
    " \n",
    "    with open(filename) as csvDataFile:\n",
    "        csvReader = csv.reader(csvDataFile)\n",
    "        count = -1;\n",
    "        for row in csvReader:\n",
    "            \n",
    "            tmbdid = row[0]\n",
    "            keyword = row[1]\n",
    "            movieid = tmbdidToMovieid[tmbdid]\n",
    "            movieKeyword[movieid] = keyword\n",
    "        \n",
    "            count = count+1"
   ]
  },
  {
   "cell_type": "code",
   "execution_count": 62,
   "metadata": {
    "collapsed": false
   },
   "outputs": [],
   "source": [
    "def readRating(filename):\n",
    "    with open(filename) as csvDataFile:\n",
    "        csvReader = csv.reader(csvDataFile)\n",
    "        count = -1\n",
    "        cnt = 0\n",
    "        curruser = -1\n",
    "        over50 = 0;\n",
    "        over100 = 0;\n",
    "        over200 = 0;\n",
    "        over300 = 0;\n",
    "        temp = np.zeros(movieNum)\n",
    "        userCount = 0;\n",
    "        for row in csvReader:\n",
    "            if count == -1:\n",
    "                count = count+1\n",
    "                continue;\n",
    "            \n",
    "            \n",
    "            userid = int(row[0])\n",
    "            if userid != curruser:\n",
    "                curruser = userid\n",
    "                if cnt >= 50: over50 += 1\n",
    "                if cnt >= 100: over100 += 1\n",
    "                if cnt >= 200: over200 += 1\n",
    "                if cnt >= 300: over300 += 1\n",
    "                if cnt >= 300:\n",
    "                    matrix[userCount] = temp\n",
    "                    temp = np.zeros(movieNum)\n",
    "                    userCount += 1\n",
    "                    \n",
    "                cnt = 0\n",
    "                \n",
    "            else:\n",
    "                cnt +=1\n",
    "            \n",
    "            movieid = row[1]\n",
    "            rating = row[2]\n",
    "            \n",
    "            temp[movieidToCol[movieid]] = rating\n",
    "            #matrix[userid-1][movieidToCol[movieid]] = rating\n",
    "        \n",
    "            count = count+1\n",
    "    \n",
    "    print count\n",
    "    print over50\n",
    "    print over100\n",
    "    print over200\n",
    "    print over300"
   ]
  },
  {
   "cell_type": "code",
   "execution_count": 63,
   "metadata": {
    "collapsed": false
   },
   "outputs": [],
   "source": [
    "readLink('./the-movies-dataset/links.csv')"
   ]
  },
  {
   "cell_type": "code",
   "execution_count": 64,
   "metadata": {
    "collapsed": false
   },
   "outputs": [],
   "source": [
    "readMoviemetadata('./the-movies-dataset/movies_metadata.csv')"
   ]
  },
  {
   "cell_type": "code",
   "execution_count": 67,
   "metadata": {
    "collapsed": false
   },
   "outputs": [],
   "source": [
    "readKeyword('./the-movies-dataset/keywords.csv')"
   ]
  },
  {
   "cell_type": "code",
   "execution_count": 68,
   "metadata": {
    "collapsed": false
   },
   "outputs": [
    {
     "name": "stdout",
     "output_type": "stream",
     "text": [
      "26024289\n",
      "102378\n",
      "63576\n",
      "32810\n",
      "20133\n"
     ]
    }
   ],
   "source": [
    "readRating('./the-movies-dataset/ratings.csv')"
   ]
  },
  {
   "cell_type": "code",
   "execution_count": 69,
   "metadata": {
    "collapsed": false
   },
   "outputs": [
    {
     "data": {
      "text/plain": [
       "(20133, 45843)"
      ]
     },
     "execution_count": 69,
     "metadata": {},
     "output_type": "execute_result"
    }
   ],
   "source": [
    "matrix.shape"
   ]
  },
  {
   "cell_type": "code",
   "execution_count": 76,
   "metadata": {
    "collapsed": false
   },
   "outputs": [],
   "source": [
    "selectedMovieOverview = collections.defaultdict(list)\n",
    "selectedMovieGenre = []\n",
    "selectedMovieKeyword = []"
   ]
  },
  {
   "cell_type": "code",
   "execution_count": 74,
   "metadata": {
    "collapsed": false
   },
   "outputs": [
    {
     "ename": "ValueError",
     "evalue": "Expecting property name: line 1 column 2 (char 1)",
     "output_type": "error",
     "traceback": [
      "\u001b[0;31m---------------------------------------------------------------------------\u001b[0m",
      "\u001b[0;31mValueError\u001b[0m                                Traceback (most recent call last)",
      "\u001b[0;32m<ipython-input-74-b87d7f3b2502>\u001b[0m in \u001b[0;36m<module>\u001b[0;34m()\u001b[0m\n\u001b[1;32m      2\u001b[0m \u001b[0;34m\u001b[0m\u001b[0m\n\u001b[1;32m      3\u001b[0m \u001b[0mjson_data\u001b[0m \u001b[0;34m=\u001b[0m \u001b[0;34m\"{'id': 80, 'name': 'Crime'}, {'id': 18, 'name': 'Drama'}, {'id': 10769, 'name': 'Foreign'}\"\u001b[0m\u001b[0;34m\u001b[0m\u001b[0m\n\u001b[0;32m----> 4\u001b[0;31m \u001b[0mpython_obj\u001b[0m \u001b[0;34m=\u001b[0m \u001b[0mjson\u001b[0m\u001b[0;34m.\u001b[0m\u001b[0mloads\u001b[0m\u001b[0;34m(\u001b[0m\u001b[0mjson_data\u001b[0m\u001b[0;34m)\u001b[0m\u001b[0;34m\u001b[0m\u001b[0m\n\u001b[0m\u001b[1;32m      5\u001b[0m \u001b[0;32mprint\u001b[0m \u001b[0mpython_obj\u001b[0m\u001b[0;34m[\u001b[0m\u001b[0;34m\"name\"\u001b[0m\u001b[0;34m]\u001b[0m\u001b[0;34m\u001b[0m\u001b[0m\n",
      "\u001b[0;32m//anaconda/lib/python2.7/json/__init__.pyc\u001b[0m in \u001b[0;36mloads\u001b[0;34m(s, encoding, cls, object_hook, parse_float, parse_int, parse_constant, object_pairs_hook, **kw)\u001b[0m\n\u001b[1;32m    337\u001b[0m             \u001b[0mparse_int\u001b[0m \u001b[0;32mis\u001b[0m \u001b[0mNone\u001b[0m \u001b[0;32mand\u001b[0m \u001b[0mparse_float\u001b[0m \u001b[0;32mis\u001b[0m \u001b[0mNone\u001b[0m \u001b[0;32mand\u001b[0m\u001b[0;34m\u001b[0m\u001b[0m\n\u001b[1;32m    338\u001b[0m             parse_constant is None and object_pairs_hook is None and not kw):\n\u001b[0;32m--> 339\u001b[0;31m         \u001b[0;32mreturn\u001b[0m \u001b[0m_default_decoder\u001b[0m\u001b[0;34m.\u001b[0m\u001b[0mdecode\u001b[0m\u001b[0;34m(\u001b[0m\u001b[0ms\u001b[0m\u001b[0;34m)\u001b[0m\u001b[0;34m\u001b[0m\u001b[0m\n\u001b[0m\u001b[1;32m    340\u001b[0m     \u001b[0;32mif\u001b[0m \u001b[0mcls\u001b[0m \u001b[0;32mis\u001b[0m \u001b[0mNone\u001b[0m\u001b[0;34m:\u001b[0m\u001b[0;34m\u001b[0m\u001b[0m\n\u001b[1;32m    341\u001b[0m         \u001b[0mcls\u001b[0m \u001b[0;34m=\u001b[0m \u001b[0mJSONDecoder\u001b[0m\u001b[0;34m\u001b[0m\u001b[0m\n",
      "\u001b[0;32m//anaconda/lib/python2.7/json/decoder.pyc\u001b[0m in \u001b[0;36mdecode\u001b[0;34m(self, s, _w)\u001b[0m\n\u001b[1;32m    362\u001b[0m \u001b[0;34m\u001b[0m\u001b[0m\n\u001b[1;32m    363\u001b[0m         \"\"\"\n\u001b[0;32m--> 364\u001b[0;31m         \u001b[0mobj\u001b[0m\u001b[0;34m,\u001b[0m \u001b[0mend\u001b[0m \u001b[0;34m=\u001b[0m \u001b[0mself\u001b[0m\u001b[0;34m.\u001b[0m\u001b[0mraw_decode\u001b[0m\u001b[0;34m(\u001b[0m\u001b[0ms\u001b[0m\u001b[0;34m,\u001b[0m \u001b[0midx\u001b[0m\u001b[0;34m=\u001b[0m\u001b[0m_w\u001b[0m\u001b[0;34m(\u001b[0m\u001b[0ms\u001b[0m\u001b[0;34m,\u001b[0m \u001b[0;36m0\u001b[0m\u001b[0;34m)\u001b[0m\u001b[0;34m.\u001b[0m\u001b[0mend\u001b[0m\u001b[0;34m(\u001b[0m\u001b[0;34m)\u001b[0m\u001b[0;34m)\u001b[0m\u001b[0;34m\u001b[0m\u001b[0m\n\u001b[0m\u001b[1;32m    365\u001b[0m         \u001b[0mend\u001b[0m \u001b[0;34m=\u001b[0m \u001b[0m_w\u001b[0m\u001b[0;34m(\u001b[0m\u001b[0ms\u001b[0m\u001b[0;34m,\u001b[0m \u001b[0mend\u001b[0m\u001b[0;34m)\u001b[0m\u001b[0;34m.\u001b[0m\u001b[0mend\u001b[0m\u001b[0;34m(\u001b[0m\u001b[0;34m)\u001b[0m\u001b[0;34m\u001b[0m\u001b[0m\n\u001b[1;32m    366\u001b[0m         \u001b[0;32mif\u001b[0m \u001b[0mend\u001b[0m \u001b[0;34m!=\u001b[0m \u001b[0mlen\u001b[0m\u001b[0;34m(\u001b[0m\u001b[0ms\u001b[0m\u001b[0;34m)\u001b[0m\u001b[0;34m:\u001b[0m\u001b[0;34m\u001b[0m\u001b[0m\n",
      "\u001b[0;32m//anaconda/lib/python2.7/json/decoder.pyc\u001b[0m in \u001b[0;36mraw_decode\u001b[0;34m(self, s, idx)\u001b[0m\n\u001b[1;32m    378\u001b[0m         \"\"\"\n\u001b[1;32m    379\u001b[0m         \u001b[0;32mtry\u001b[0m\u001b[0;34m:\u001b[0m\u001b[0;34m\u001b[0m\u001b[0m\n\u001b[0;32m--> 380\u001b[0;31m             \u001b[0mobj\u001b[0m\u001b[0;34m,\u001b[0m \u001b[0mend\u001b[0m \u001b[0;34m=\u001b[0m \u001b[0mself\u001b[0m\u001b[0;34m.\u001b[0m\u001b[0mscan_once\u001b[0m\u001b[0;34m(\u001b[0m\u001b[0ms\u001b[0m\u001b[0;34m,\u001b[0m \u001b[0midx\u001b[0m\u001b[0;34m)\u001b[0m\u001b[0;34m\u001b[0m\u001b[0m\n\u001b[0m\u001b[1;32m    381\u001b[0m         \u001b[0;32mexcept\u001b[0m \u001b[0mStopIteration\u001b[0m\u001b[0;34m:\u001b[0m\u001b[0;34m\u001b[0m\u001b[0m\n\u001b[1;32m    382\u001b[0m             \u001b[0;32mraise\u001b[0m \u001b[0mValueError\u001b[0m\u001b[0;34m(\u001b[0m\u001b[0;34m\"No JSON object could be decoded\"\u001b[0m\u001b[0;34m)\u001b[0m\u001b[0;34m\u001b[0m\u001b[0m\n",
      "\u001b[0;31mValueError\u001b[0m: Expecting property name: line 1 column 2 (char 1)"
     ]
    }
   ],
   "source": [
    "import json\n",
    " \n",
    "json_data = \"{'id': 80, 'name': 'Crime'}, {'id': 18, 'name': 'Drama'}, {'id': 10769, 'name': 'Foreign'}\"\n",
    "python_obj = json.loads(json_data)\n",
    "print python_obj[\"name\"]"
   ]
  },
  {
   "cell_type": "code",
   "execution_count": 78,
   "metadata": {
    "collapsed": false
   },
   "outputs": [
    {
     "name": "stdout",
     "output_type": "stream",
     "text": [
      "12533\n",
      "9970\n",
      "7780\n",
      "6672\n"
     ]
    }
   ],
   "source": [
    "import re\n",
    "import json\n",
    "\n",
    "ratings = np.zeros((6672, userNum))\n",
    "movieCount = 0\n",
    "over50 = 0;\n",
    "over100 = 0;\n",
    "over200 = 0;\n",
    "over300 = 0;\n",
    "\n",
    "for i in range(movieNum):\n",
    "    cnt = 0\n",
    "    index = 0\n",
    "    temp = np.zeros(userNum)\n",
    "    for j in range(userNum):\n",
    "        temp[index] = matrix[j][i]\n",
    "        index += 1\n",
    "        if(matrix[j][i] != 0):\n",
    "            cnt += 1\n",
    "            \n",
    "    if cnt >= 50: over50 += 1\n",
    "    if cnt >= 100: over100 += 1\n",
    "    if cnt >= 200: over200 += 1\n",
    "    if cnt >= 300: \n",
    "        over300 += 1\n",
    "        ratings[movieCount] = temp\n",
    "        \n",
    "        movieid = colToMovieid[i]\n",
    "        \n",
    "        overview = movieOverview[movieid]\n",
    "        genre = movieGenre[movieid]\n",
    "        keyword = movieKeyword[movieid]\n",
    "        \n",
    "        selectedMovieOverview[movieCount]= re.sub(\"[^\\w]\", \" \",  overview).split()\n",
    "        selectedMovieGenre.append(genre)\n",
    "        selectedMovieKeyword.append(keyword)\n",
    "        \n",
    "        movieCount += 1\n",
    "        \n",
    "print over50\n",
    "print over100\n",
    "print over200\n",
    "print over300"
   ]
  },
  {
   "cell_type": "code",
   "execution_count": 84,
   "metadata": {
    "collapsed": false
   },
   "outputs": [],
   "source": [
    "np.savetxt(\"ratings.gz\", ratings)"
   ]
  },
  {
   "cell_type": "code",
   "execution_count": 87,
   "metadata": {
    "collapsed": true
   },
   "outputs": [],
   "source": [
    "with open('movieKeyword', 'wb') as fp:\n",
    "    pickle.dump(selectedMovieKeyword, fp)\n",
    "    \n",
    "with open('movieGenre', 'wb') as fp:\n",
    "    pickle.dump(selectedMovieGenre, fp)"
   ]
  },
  {
   "cell_type": "code",
   "execution_count": 88,
   "metadata": {
    "collapsed": false
   },
   "outputs": [],
   "source": [
    "f = open(\"overview.pkl\",\"wb\")\n",
    "pickle.dump(selectedMovieOverview,f)\n",
    "f.close()"
   ]
  },
  {
   "cell_type": "code",
   "execution_count": 48,
   "metadata": {
    "collapsed": false
   },
   "outputs": [
    {
     "data": {
      "text/plain": [
       "0.0020955752008084056"
      ]
     },
     "execution_count": 48,
     "metadata": {},
     "output_type": "execute_result"
    }
   ],
   "source": [
    "26024289*1.0/(270896*45843)"
   ]
  },
  {
   "cell_type": "code",
   "execution_count": null,
   "metadata": {
    "collapsed": true
   },
   "outputs": [],
   "source": []
  }
 ],
 "metadata": {
  "kernelspec": {
   "display_name": "Python 2",
   "language": "python",
   "name": "python2"
  },
  "language_info": {
   "codemirror_mode": {
    "name": "ipython",
    "version": 2
   },
   "file_extension": ".py",
   "mimetype": "text/x-python",
   "name": "python",
   "nbconvert_exporter": "python",
   "pygments_lexer": "ipython2",
   "version": "2.7.13"
  }
 },
 "nbformat": 4,
 "nbformat_minor": 0
}
